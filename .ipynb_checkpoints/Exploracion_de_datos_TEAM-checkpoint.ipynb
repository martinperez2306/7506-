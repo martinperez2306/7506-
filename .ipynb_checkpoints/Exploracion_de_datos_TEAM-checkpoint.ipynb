{
 "cells": [
  {
   "cell_type": "code",
   "execution_count": null,
   "metadata": {
    "collapsed": false,
    "deletable": true,
    "editable": true
   },
   "outputs": [],
   "source": [
    "%matplotlib inline\n",
    "import pandas as pd\n",
    "import numpy as np\n",
    "from scipy.stats.stats import pearsonr  \n",
    "from pandas.tseries.holiday import USFederalHolidayCalendar\n",
    "from pandas.tseries.offsets import CustomBusinessDay\n",
    "from datetime import datetime\n",
    "import plotly.plotly as py\n",
    "import matplotlib.pyplot as plt\n",
    "import json\n",
    "import branca.colormap as cm\n",
    "\n",
    "\n",
    "plt.style.use('default') # Make the graphs a bit prettier\n",
    "plt.rcParams['figure.figsize'] = (15, 5)"
   ]
  },
  {
   "cell_type": "markdown",
   "metadata": {
    "deletable": true,
    "editable": true
   },
   "source": [
    "## Carga de CSVs"
   ]
  },
  {
   "cell_type": "markdown",
   "metadata": {
    "deletable": true,
    "editable": true
   },
   "source": [
    "## A continuacion se realiza la carga de archivos a los dataframe correspondientes."
   ]
  },
  {
   "cell_type": "code",
   "execution_count": null,
   "metadata": {
    "collapsed": false,
    "deletable": true,
    "editable": true
   },
   "outputs": [],
   "source": [
    "dfEstaciones =pd.read_csv('../CSVs/station.csv', thousands=',', low_memory=False)\n",
    "dfClima=pd.read_csv('../CSVs/weather.csv', thousands=',', low_memory=False)\n",
    "dfViajes = pd.read_csv('../CSVs/trip.csv', thousands=',', low_memory=False)\n",
    "#Df creado por nuestro grupo con la informacion que queriamos analizar de Status.csv\n",
    "dfTableID_DocksAvailable = pd.read_csv('../CSVs/tabla_id_dockAvailable.csv')"
   ]
  },
  {
   "cell_type": "markdown",
   "metadata": {
    "deletable": true,
    "editable": true
   },
   "source": [
    "   # Filtrado de dfEstaciones"
   ]
  },
  {
   "cell_type": "markdown",
   "metadata": {
    "deletable": true,
    "editable": true
   },
   "source": [
    "## El objetivo es simplemente ver la estructura del dataframe y saber que informacion nos puede brindar."
   ]
  },
  {
   "cell_type": "code",
   "execution_count": null,
   "metadata": {
    "collapsed": false,
    "deletable": true,
    "editable": true
   },
   "outputs": [],
   "source": [
    "print (dfEstaciones.shape) "
   ]
  },
  {
   "cell_type": "code",
   "execution_count": null,
   "metadata": {
    "collapsed": false,
    "deletable": true,
    "editable": true,
    "scrolled": true
   },
   "outputs": [],
   "source": [
    "dfEstaciones"
   ]
  },
  {
   "cell_type": "code",
   "execution_count": null,
   "metadata": {
    "collapsed": false,
    "deletable": true,
    "editable": true
   },
   "outputs": [],
   "source": [
    "dfEstaciones.dtypes"
   ]
  },
  {
   "cell_type": "code",
   "execution_count": null,
   "metadata": {
    "collapsed": false,
    "deletable": true,
    "editable": true
   },
   "outputs": [],
   "source": [
    "# No tenemos nullos\n",
    "dfEstaciones.isnull().sum()"
   ]
  },
  {
   "cell_type": "code",
   "execution_count": null,
   "metadata": {
    "collapsed": false,
    "deletable": true,
    "editable": true,
    "scrolled": true
   },
   "outputs": [],
   "source": [
    "#Pasamos el campo installation_date al tipo datetime\n",
    "dfEstaciones.installation_date = pd.to_datetime(dfEstaciones.installation_date, format = \"%m/%d/%Y\").dt.date\n",
    "\n",
    "#Probamos si funciona correctamente\n",
    "print (dfEstaciones.installation_date.min())\n",
    "print (dfEstaciones.installation_date.max())"
   ]
  },
  {
   "cell_type": "markdown",
   "metadata": {
    "deletable": true,
    "editable": true
   },
   "source": [
    "# Filtrado de df Status.csv"
   ]
  },
  {
   "cell_type": "markdown",
   "metadata": {
    "collapsed": false,
    "deletable": true,
    "editable": true
   },
   "source": [
    "## status.csv era un archivo de 2GB el cual fue reducido a una tabla con la informacion que ibamos a utilizar, esta contiene la estaciones agrupadas por ID junto con los docks_available en promedio. \n",
    "## El objetivo es obtener un porcentaje, el cual represanta la utilidad de esa estacion, es decir que tanto se utilizan sus docks en relacion a los disponibles."
   ]
  },
  {
   "cell_type": "code",
   "execution_count": null,
   "metadata": {
    "collapsed": false,
    "deletable": true,
    "editable": true
   },
   "outputs": [],
   "source": [
    "dfTableID_DocksAvailable.head()"
   ]
  },
  {
   "cell_type": "code",
   "execution_count": null,
   "metadata": {
    "collapsed": false,
    "deletable": true,
    "editable": true
   },
   "outputs": [],
   "source": [
    "dfEstaciones.head()"
   ]
  },
  {
   "cell_type": "code",
   "execution_count": null,
   "metadata": {
    "collapsed": false,
    "deletable": true,
    "editable": true
   },
   "outputs": [],
   "source": [
    "#Realizamos merge de dataframe 'dfEstaciones' con 'dfTableID_DocksAvailable' por ID de estacion\n",
    "dfMerged = dfEstaciones.merge(dfTableID_DocksAvailable, left_on='id', right_on='station_id').drop('station_id', 1)\n",
    "dfMerged"
   ]
  },
  {
   "cell_type": "code",
   "execution_count": null,
   "metadata": {
    "collapsed": false,
    "deletable": true,
    "editable": true
   },
   "outputs": [],
   "source": [
    "#Le damos un nombre mas significado al feature\n",
    "dfMerged = dfMerged.rename(columns={'docks_available': 'mean_of_docks_available'})\n",
    "dfMerged"
   ]
  },
  {
   "cell_type": "code",
   "execution_count": null,
   "metadata": {
    "collapsed": false,
    "deletable": true,
    "editable": true
   },
   "outputs": [],
   "source": [
    "#Obtenemos el porcentaje de utilidad de cada estacion\n",
    "dfMerged['%_of_docks_usage'] = dfMerged.mean_of_docks_available/dfMerged.dock_count\n",
    "dfMerged"
   ]
  },
  {
   "cell_type": "code",
   "execution_count": null,
   "metadata": {
    "collapsed": false,
    "deletable": true,
    "editable": true
   },
   "outputs": [],
   "source": [
    "dfMerged.to_csv('../CSVs//usagePercentagePerStation.csv')"
   ]
  },
  {
   "cell_type": "markdown",
   "metadata": {
    "deletable": true,
    "editable": true
   },
   "source": [
    "# Filtrado de dfClima\n",
    "## El objetivo es simplemente ver la estructura del dataframe y saber que informacion nos puede brindar."
   ]
  },
  {
   "cell_type": "code",
   "execution_count": null,
   "metadata": {
    "collapsed": false,
    "deletable": true,
    "editable": true
   },
   "outputs": [],
   "source": [
    "dfClima"
   ]
  },
  {
   "cell_type": "code",
   "execution_count": null,
   "metadata": {
    "collapsed": false,
    "deletable": true,
    "editable": true
   },
   "outputs": [],
   "source": [
    "dfClima.shape"
   ]
  },
  {
   "cell_type": "code",
   "execution_count": null,
   "metadata": {
    "collapsed": false,
    "deletable": true,
    "editable": true
   },
   "outputs": [],
   "source": [
    "#Vemos que contiene muchos nulos\n",
    "dfClima.isnull().sum()"
   ]
  },
  {
   "cell_type": "code",
   "execution_count": null,
   "metadata": {
    "collapsed": false,
    "deletable": true,
    "editable": true
   },
   "outputs": [],
   "source": [
    "#Pasamos a datetime\n",
    "dfClima.date = pd.to_datetime(dfClima.date, format='%m/%d/%Y')"
   ]
  },
  {
   "cell_type": "code",
   "execution_count": null,
   "metadata": {
    "collapsed": false,
    "deletable": true,
    "editable": true
   },
   "outputs": [],
   "source": [
    "dfClima.head(10)"
   ]
  },
  {
   "cell_type": "code",
   "execution_count": null,
   "metadata": {
    "collapsed": false,
    "deletable": true,
    "editable": true
   },
   "outputs": [],
   "source": [
    "dfClima.events.unique()"
   ]
  },
  {
   "cell_type": "code",
   "execution_count": null,
   "metadata": {
    "collapsed": false,
    "deletable": true,
    "editable": true
   },
   "outputs": [],
   "source": [
    "#Limpio los datos bugeados, tenemos mucha informacion nula, la cual decidimos pasar a Normal\n",
    "#Tambien corregi\n",
    "dfClima.loc[dfClima.events == 'rain', 'events'] = \"Rain\"\n",
    "dfClima.loc[dfClima.events.isnull(), 'events'] = \"Normal\""
   ]
  },
  {
   "cell_type": "code",
   "execution_count": null,
   "metadata": {
    "collapsed": false,
    "deletable": true,
    "editable": true
   },
   "outputs": [],
   "source": [
    "# EL zip_code es el codigo postal para las 5 ciudades de la bahia\n",
    "dfClima.zip_code.unique()"
   ]
  },
  {
   "cell_type": "code",
   "execution_count": null,
   "metadata": {
    "collapsed": false,
    "deletable": true,
    "editable": true
   },
   "outputs": [],
   "source": [
    "# Vemos cual de estos zip code tiene menos nulos\n",
    "for zc in dfClima.zip_code.unique():\n",
    "    print (dfClima[dfClima.zip_code == zc].isnull().sum())\n",
    "    print ()"
   ]
  },
  {
   "cell_type": "code",
   "execution_count": null,
   "metadata": {
    "collapsed": false,
    "deletable": true,
    "editable": true
   },
   "outputs": [],
   "source": [
    "#Trabajamos con el zip_code == 94107, es el mas 'limpio' de nulos, dada la cercania de todas las ciudades \n",
    "#la informacion no puede ser muy cambiante entre estas, por lo cual consideramos valido filtrar por una en particular.\n",
    "dfClimaLimpio = dfClima[dfClima.zip_code == 94107]\n",
    "dfClimaLimpio.shape"
   ]
  },
  {
   "cell_type": "code",
   "execution_count": null,
   "metadata": {
    "collapsed": false,
    "deletable": true,
    "editable": true,
    "scrolled": true
   },
   "outputs": [],
   "source": [
    "dfClimaLimpio.events"
   ]
  },
  {
   "cell_type": "code",
   "execution_count": null,
   "metadata": {
    "collapsed": false,
    "deletable": true,
    "editable": true
   },
   "outputs": [],
   "source": [
    "#Transformamos el feature events, en un nuevo dataframe el cual añadiremos a dfClimaLimpio\n",
    "events = pd.get_dummies(dfClimaLimpio.events)\n",
    "events"
   ]
  },
  {
   "cell_type": "code",
   "execution_count": null,
   "metadata": {
    "collapsed": false,
    "deletable": true,
    "editable": true
   },
   "outputs": [],
   "source": [
    "#Mergeo los 2 data frames, eventos con dfClimaLimpio\n",
    "dfClimaLimpio = dfClimaLimpio.merge(events, left_index = True, right_index = True)\n",
    "#Saco los features que no voy a usar\n",
    "dfClimaLimpio = dfClimaLimpio.drop(['events','zip_code'],1)"
   ]
  },
  {
   "cell_type": "code",
   "execution_count": null,
   "metadata": {
    "collapsed": false,
    "deletable": true,
    "editable": true
   },
   "outputs": [],
   "source": [
    "#Todavia tenemos nulos\n",
    "dfClimaLimpio.isnull().sum()"
   ]
  },
  {
   "cell_type": "code",
   "execution_count": null,
   "metadata": {
    "collapsed": false,
    "deletable": true,
    "editable": true
   },
   "outputs": [],
   "source": [
    "#El campo max_gust_speed_mph no esta limpio todavia, lo trabajo\n",
    "#Para cada valor de max_wind, busco la media de max_gust y la uso para rellenar los nulos.\n",
    "dfClimaLimpio.loc[dfClimaLimpio.max_gust_speed_mph.isnull(), 'max_gust_speed_mph'] = \\\n",
    "                                dfClimaLimpio.groupby('max_wind_Speed_mph').\\\n",
    "                                max_gust_speed_mph.apply(lambda x: x.fillna(x.median()))"
   ]
  },
  {
   "cell_type": "code",
   "execution_count": null,
   "metadata": {
    "collapsed": false,
    "deletable": true,
    "editable": true
   },
   "outputs": [],
   "source": [
    "# Listo para usar\n",
    "dfClimaLimpio.isnull().sum()"
   ]
  },
  {
   "cell_type": "code",
   "execution_count": null,
   "metadata": {
    "collapsed": false,
    "deletable": true,
    "editable": true,
    "scrolled": false
   },
   "outputs": [],
   "source": [
    "# el campo precipitation_inches lo deseamos de tipo numerico\n",
    "dfClimaLimpio.dtypes"
   ]
  },
  {
   "cell_type": "code",
   "execution_count": null,
   "metadata": {
    "collapsed": false,
    "deletable": true,
    "editable": true,
    "scrolled": true
   },
   "outputs": [],
   "source": [
    "dfClimaLimpio.precipitation_inches\n"
   ]
  },
  {
   "cell_type": "code",
   "execution_count": null,
   "metadata": {
    "collapsed": false,
    "deletable": true,
    "editable": true
   },
   "outputs": [],
   "source": [
    "#Cambio el feature de string a numeric, los valores que son 'T' los cambio por NAN\n",
    "dfClimaLimpio.precipitation_inches = pd.to_numeric(dfClimaLimpio.precipitation_inches, errors = 'coerce')"
   ]
  },
  {
   "cell_type": "code",
   "execution_count": null,
   "metadata": {
    "collapsed": false,
    "deletable": true,
    "editable": true
   },
   "outputs": [],
   "source": [
    "#Change null values to the median, of values > 0, because T, I think, means True. \n",
    "#Therefore we want to find the median amount of precipitation on days when it rained.\n",
    "dfClimaLimpio.loc[dfClimaLimpio.precipitation_inches.isnull(), 'precipitation_inches'] = \\\n",
    "dfClimaLimpio[dfClimaLimpio.precipitation_inches.notnull()].precipitation_inches.median()"
   ]
  },
  {
   "cell_type": "markdown",
   "metadata": {
    "deletable": true,
    "editable": true
   },
   "source": [
    "## Cambiamos unidades norteamericanas por unidades mks"
   ]
  },
  {
   "cell_type": "code",
   "execution_count": null,
   "metadata": {
    "collapsed": true,
    "deletable": true,
    "editable": true
   },
   "outputs": [],
   "source": [
    "# Cambiamos nombre de features\n",
    "dfClimaLimpio=dfClimaLimpio.rename(columns={'max_temperature_f':'max_temperature_c', 'mean_temperature_f':'mean_temperature_c',\\\n",
    "            'max_dew_point_f':'max_dew_point_c','min_temperature_f':'min_temperature_c',\\\n",
    "            'mean_dew_point_f':'mean_dew_point_c','min_dew_point_f':'min_dew_point_c',\\\n",
    "            'max_sea_level_pressure_inches':'max_sea_level_pressure_cm','mean_sea_level_pressure_inches':'mean_sea_level_pressure_cm', \\\n",
    "            'min_sea_level_pressure_inches':'min_sea_level_pressure_cm','precipitation_inches':'precipitation_cm', \\\n",
    "            'max_visibility_miles':'max_visibility_km','mean_visibility_miles':'mean_visibility_km', \\\n",
    "            'min_visibility_miles':'min_visibility_km','max_wind_Speed_mph':'max_wind_Speed_kmh',\\\n",
    "            'mean_wind_speed_mph':'mean_wind_speed_kmh','max_gust_speed_mph':'max_gust_speed_kmh'})"
   ]
  },
  {
   "cell_type": "code",
   "execution_count": null,
   "metadata": {
    "collapsed": false,
    "deletable": true,
    "editable": true
   },
   "outputs": [],
   "source": [
    "#Aplicamos las funciones para el cambio de unidades\n",
    "def farToCelsius(x):\n",
    "    x = (x - 32 )/ 1.8\n",
    "    return float(x)\n",
    "\n",
    "def pulgToCm(x):\n",
    "    x = x * 2.54\n",
    "    return float(x)\n",
    "def milesToKm (x):\n",
    "    x = x* 1.60934\n",
    "    return float(x)\n",
    "\n",
    "dfClimaLimpio.max_temperature_c = dfClimaLimpio.max_temperature_c.apply(farToCelsius)\n",
    "dfClimaLimpio.mean_temperature_c = dfClimaLimpio.mean_temperature_c.apply(farToCelsius)\n",
    "dfClimaLimpio.min_temperature_c =dfClimaLimpio.min_temperature_c.apply(farToCelsius)\n",
    "dfClimaLimpio.max_dew_point_c = dfClimaLimpio.max_dew_point_c.apply(farToCelsius)\n",
    "dfClimaLimpio.mean_dew_point_c = dfClimaLimpio.mean_dew_point_c.apply(farToCelsius)\n",
    "dfClimaLimpio.min_dew_point_c = dfClimaLimpio.min_dew_point_c.apply(farToCelsius)\n",
    "dfClimaLimpio.max_sea_level_pressure_cm = dfClimaLimpio.max_sea_level_pressure_cm.apply(pulgToCm)\n",
    "dfClimaLimpio.mean_sea_level_pressure_cm= dfClimaLimpio.mean_sea_level_pressure_cm.apply(pulgToCm)\n",
    "dfClimaLimpio.min_sea_level_pressure_cm = dfClimaLimpio.min_sea_level_pressure_cm.apply(pulgToCm)\n",
    "dfClimaLimpio.precipitation_cm = dfClimaLimpio.precipitation_cm.apply(pulgToCm)\n",
    "dfClimaLimpio.max_visibility_km = dfClimaLimpio.max_visibility_km.apply(milesToKm)\n",
    "dfClimaLimpio.mean_visibility_km = dfClimaLimpio.mean_visibility_km.apply(milesToKm)\n",
    "dfClimaLimpio.min_visibility_km = dfClimaLimpio.min_visibility_km.apply(milesToKm)\n",
    "dfClimaLimpio.max_wind_Speed_kmh = dfClimaLimpio.max_wind_Speed_kmh.apply(milesToKm)\n",
    "dfClimaLimpio.mean_wind_speed_kmh = dfClimaLimpio.mean_wind_speed_kmh.apply(milesToKm)\n",
    "dfClimaLimpio.max_gust_speed_kmhh = dfClimaLimpio.max_gust_speed_kmh.apply(milesToKm)\n",
    "\n",
    "\n",
    "\n",
    "dfClimaLimpio"
   ]
  },
  {
   "cell_type": "markdown",
   "metadata": {
    "deletable": true,
    "editable": true
   },
   "source": [
    "Analisis de Estaciones de llegadas en climas calurosos"
   ]
  },
  {
   "cell_type": "code",
   "execution_count": null,
   "metadata": {
    "collapsed": false,
    "deletable": true,
    "editable": true
   },
   "outputs": [],
   "source": [
    "#Objetivo: Posible construccion de estacion de bebidas para los bikers\n",
    "#Concideramos solo el ZipCode 94107. La variacion de temperaturas entre zipcodes la concideramos despreciable\n",
    "#Creamos nuevos DataFrames con los datos que nos interesan, para trabajar mas comodamente.\n",
    "\n",
    "data = {'date' : dfClimaLimpio['date'],'max_temperature_c' : dfClimaLimpio['max_temperature_c'],\n",
    "     'mean_temperature_c' : dfClimaLimpio['mean_temperature_c'],'min_temperature_c' : dfClimaLimpio['min_temperature_c'],\n",
    "       'max_dew_point_c': dfClimaLimpio['max_dew_point_c'], 'mean_dew_point_c': dfClimaLimpio['mean_dew_point_c'],\n",
    "       'min_dew_point_c':dfClimaLimpio['min_dew_point_c']}\n",
    "clima = pd.DataFrame(data = data)\n",
    "clima"
   ]
  },
  {
   "cell_type": "code",
   "execution_count": null,
   "metadata": {
    "collapsed": false,
    "deletable": true,
    "editable": true
   },
   "outputs": [],
   "source": [
    "d = {'date' : dfViajes['end_date'], 'end_station_name' : dfViajes['end_station_name'],\n",
    "     'subscription_type' : dfViajes['subscription_type']}\n",
    "viajes = pd.DataFrame(data = d)\n",
    "#¿Por que tantos datetime?\n",
    "#Porque el primero es para transformar el Object a datetime, despues al quedarme con solo la fecha lo vuelve a transformar\n",
    "# en Object. Y para transformar ese object uso otro datetime.\n",
    "viajes.date = pd.to_datetime(dfViajes.end_date,format = '%m/%d/%Y %H:%M')\n",
    "viajes.date = viajes.date.dt.date\n",
    "viajes.date = pd.to_datetime(viajes.date,format = '%Y-%m-%d')\n",
    "viajes"
   ]
  },
  {
   "cell_type": "code",
   "execution_count": null,
   "metadata": {
    "collapsed": false,
    "deletable": true,
    "editable": true
   },
   "outputs": [],
   "source": [
    "#Filtro por Clima caluroso = Temperatura maxima mayora 30ºC.\n",
    "climaCaluroso = clima[clima['max_temperature_c'] > 30]\n",
    "climaCaluroso"
   ]
  },
  {
   "cell_type": "code",
   "execution_count": null,
   "metadata": {
    "collapsed": false,
    "deletable": true,
    "editable": true
   },
   "outputs": [],
   "source": [
    "#Uno los viajes con los climas, correspondiente a las fechas de cada viaje\n",
    "viajesCalurosos = pd.merge(viajes,climaCaluroso,on='date',how='inner')\n",
    "viajesCalurosos"
   ]
  },
  {
   "cell_type": "code",
   "execution_count": null,
   "metadata": {
    "collapsed": false,
    "deletable": true,
    "editable": true
   },
   "outputs": [],
   "source": [
    "#Agrupamos por estaciones y contamos la cantidad de viajes que tuvo cada estacion (contamos por date)\n",
    "viajesCalurosos.groupby(viajesCalurosos.end_station_name).count().sort_values(by='date',ascending = False)"
   ]
  },
  {
   "cell_type": "markdown",
   "metadata": {
    "deletable": true,
    "editable": true
   },
   "source": [
    "# Filtrado de dfViajes\n",
    "## El objetivo es simplemente ver la estructura del dataframe y saber que informacion nos puede brindar."
   ]
  },
  {
   "cell_type": "code",
   "execution_count": null,
   "metadata": {
    "collapsed": false,
    "deletable": true,
    "editable": true
   },
   "outputs": [],
   "source": [
    "dfViajes.isnull().sum()"
   ]
  },
  {
   "cell_type": "code",
   "execution_count": null,
   "metadata": {
    "collapsed": false,
    "deletable": true,
    "editable": true
   },
   "outputs": [],
   "source": [
    "# El tamaño es manejable\n",
    "dfViajes.shape"
   ]
  },
  {
   "cell_type": "code",
   "execution_count": null,
   "metadata": {
    "collapsed": false,
    "deletable": true,
    "editable": true
   },
   "outputs": [],
   "source": [
    "dfViajes"
   ]
  },
  {
   "cell_type": "code",
   "execution_count": null,
   "metadata": {
    "collapsed": false,
    "deletable": true,
    "editable": true
   },
   "outputs": [],
   "source": [
    "#Duracion de todos los viajes\n",
    "dfViajes.duration.describe()"
   ]
  },
  {
   "cell_type": "code",
   "execution_count": null,
   "metadata": {
    "collapsed": false,
    "deletable": true,
    "editable": true,
    "scrolled": true
   },
   "outputs": [],
   "source": [
    "# Lo paso a minutos y el promedio de viaje\n",
    "dfViajes.duration /=60"
   ]
  },
  {
   "cell_type": "code",
   "execution_count": null,
   "metadata": {
    "collapsed": false,
    "deletable": true,
    "editable": true
   },
   "outputs": [],
   "source": [
    "dfViajes.duration.describe()"
   ]
  },
  {
   "cell_type": "markdown",
   "metadata": {
    "deletable": true,
    "editable": true
   },
   "source": [
    "Cantidad de viajes: 669959"
   ]
  },
  {
   "cell_type": "code",
   "execution_count": null,
   "metadata": {
    "collapsed": false,
    "deletable": true,
    "editable": true,
    "scrolled": false
   },
   "outputs": [],
   "source": [
    "dfViajes.dtypes"
   ]
  },
  {
   "cell_type": "code",
   "execution_count": null,
   "metadata": {
    "collapsed": true,
    "deletable": true,
    "editable": true
   },
   "outputs": [],
   "source": [
    "#Transformar de Object a DateTime\n",
    "#El Date Time almacena YYYY-mm-dd\n",
    "dfViajes.start_date = pd.to_datetime(dfViajes.start_date,format = '%m/%d/%Y %H:%M')\n",
    "dfViajes.end_date = pd.to_datetime(dfViajes.end_date,format = '%m/%d/%Y %H:%M')"
   ]
  },
  {
   "cell_type": "code",
   "execution_count": null,
   "metadata": {
    "collapsed": true,
    "deletable": true,
    "editable": true
   },
   "outputs": [],
   "source": [
    "dfViajes2 = dfViajes"
   ]
  },
  {
   "cell_type": "markdown",
   "metadata": {
    "deletable": true,
    "editable": true
   },
   "source": [
    "# A PARTIR DE ACA COMIENZA EL ANALISIS EXPLORATORIO DE LA INFORMACION"
   ]
  },
  {
   "cell_type": "markdown",
   "metadata": {
    "deletable": true,
    "editable": true
   },
   "source": [
    "## (PARTE MARTIN)\n",
    "### Objetivos: Analizar la distribucion de viajes en cada estacion, que tan usadas son las estaciones tanto de salida como de llegada. Observar la cantidad de viajes totales en cada hora del dia para saber cual es el horario donde mas usuarios usan las bicicletas. Duracion de los viajes en los distintos meses del año, "
   ]
  },
  {
   "cell_type": "code",
   "execution_count": null,
   "metadata": {
    "collapsed": false,
    "deletable": true,
    "editable": true
   },
   "outputs": [],
   "source": [
    "#Primera vision para ver cuales de las estaciones fueron las mas usadas para la salida\n",
    "#Podemos contar la cantidad de viajes solicitados en la Estacion mediante los datos del ID.\n",
    "grupoStartStation = dfViajes.groupby(dfViajes['start_station_name']).count()\n",
    "grupoStartStation.sort_values(by='id',ascending = False)"
   ]
  },
  {
   "cell_type": "code",
   "execution_count": null,
   "metadata": {
    "collapsed": false,
    "deletable": true,
    "editable": true
   },
   "outputs": [],
   "source": [
    "#Primera vision para ver cuales de las estaciones fueron las mas usadas para la llegada\n",
    "#Podemos contar la cantidad de viajes solicitados en la Estacion mediante los datos del ID.\n",
    "grupoStartStation = dfViajes.groupby(dfViajes['end_station_name']).count()\n",
    "grupoStartStation.sort_values(by='id',ascending = False)"
   ]
  },
  {
   "cell_type": "code",
   "execution_count": null,
   "metadata": {
    "collapsed": false,
    "deletable": true,
    "editable": true
   },
   "outputs": [],
   "source": [
    "#23981 estaciones fueron simultaneamente estaciones de LLegada y Salida. \n",
    "#La mayoria de las estaciones fueron unicamente de Llegada o Salida\n",
    "grupoEstacionesIguales = dfViajes[(dfViajes['start_station_name'] == (dfViajes['end_station_name']))]\n",
    "grupoEstacionesIguales"
   ]
  },
  {
   "cell_type": "code",
   "execution_count": null,
   "metadata": {
    "collapsed": false,
    "deletable": true,
    "editable": true
   },
   "outputs": [],
   "source": [
    "#Para los Viajes donde sus estaciones de llegada y salida son diferentes, estas son las estaciones de salida mas usadas.\n",
    "grupoViajesDeEstacionesDiferentes = dfViajes[(dfViajes['start_station_name'] != (dfViajes['end_station_name']))]\n",
    "ordenado = grupoViajesDeEstacionesDiferentes.groupby(dfViajes['start_station_name']).count().sort_values(by='id',ascending = False)\n",
    "ordenado"
   ]
  },
  {
   "cell_type": "code",
   "execution_count": null,
   "metadata": {
    "collapsed": false,
    "deletable": true,
    "editable": true
   },
   "outputs": [],
   "source": [
    "#Para los Viajes donde sus estaciones de llegada y salida son iguales, estas son las estaciones de salida mas usadas.\n",
    "grupoViajesDeEstacionesIguales = dfViajes[(dfViajes['start_station_name'] == (dfViajes['end_station_name']))]\n",
    "ordenado = grupoViajesDeEstacionesIguales.groupby(dfViajes['start_station_name']).count().sort_values(by='id',ascending = False)\n",
    "ordenado"
   ]
  },
  {
   "cell_type": "code",
   "execution_count": null,
   "metadata": {
    "collapsed": false,
    "deletable": true,
    "editable": true
   },
   "outputs": [],
   "source": [
    "#Estaciones de salida.Franja Horaria Desde las 06 hasta las 12\n",
    "grupoSalidaManiana = dfViajes[(dfViajes.start_date.dt.hour > 6 )&(dfViajes.start_date.dt.hour < 12)]\n",
    "grupoSalidaManiana"
   ]
  },
  {
   "cell_type": "code",
   "execution_count": null,
   "metadata": {
    "collapsed": false,
    "deletable": true,
    "editable": true
   },
   "outputs": [],
   "source": [
    "#Agrupo por Estacion y cuento la cantidad de ID de viaje en el grupo para saber cuantas veces fue usada una estacion salida\n",
    "salida1 = grupoSalidaManiana.groupby(grupoSalidaManiana['start_station_name']).count().sort_values(by='id',ascending = False).id\n",
    "plt.title('Cantidad de salidas desde 06:00hs a 12:00hs')\n",
    "plt.ylabel('numero de salidas')\n",
    "plt.xlabel('estacion de salida')\n",
    "salida1.head(5).plot(kind = 'bar')\n",
    "plt.show()"
   ]
  },
  {
   "cell_type": "code",
   "execution_count": null,
   "metadata": {
    "collapsed": false,
    "deletable": true,
    "editable": true
   },
   "outputs": [],
   "source": [
    "#Estaciones de salida.Franja Horaria Desde las 12 hasta las 14\n",
    "grupoSalidaMediodia = dfViajes[(dfViajes.start_date.dt.hour > 12 )&(dfViajes.start_date.dt.hour < 14)]\n",
    "salida2 = grupoSalidaMediodia.groupby(grupoSalidaMediodia['start_station_name']).count().sort_values(by='id',ascending = False).id\n",
    "plt.title('Cantidad de salidas desde 12:00hs a 14:00hs')\n",
    "plt.ylabel('numero de salidas')\n",
    "plt.xlabel('estacion de salida')\n",
    "salida2.head(5).plot(kind = 'bar')\n",
    "plt.show()"
   ]
  },
  {
   "cell_type": "code",
   "execution_count": null,
   "metadata": {
    "collapsed": false,
    "deletable": true,
    "editable": true
   },
   "outputs": [],
   "source": [
    "#Estaciones de salida.Franja Horaria Desde las 14  hasta las 19\n",
    "grupoSalidaTarde = dfViajes[(dfViajes.start_date.dt.hour > 14 )&(dfViajes.start_date.dt.hour < 19)]\n",
    "salida3 = grupoSalidaTarde.groupby(grupoSalidaTarde['start_station_name']).count().sort_values(by='id',ascending = False).id\n",
    "plt.title('Cantidad de salidas desde 14:00hs a 19:00hs')\n",
    "plt.ylabel('numero de salidas')\n",
    "plt.xlabel('estacion de salida')\n",
    "salida3.head(5).plot(kind = 'bar')\n",
    "plt.show()"
   ]
  },
  {
   "cell_type": "code",
   "execution_count": null,
   "metadata": {
    "collapsed": false,
    "deletable": true,
    "editable": true
   },
   "outputs": [],
   "source": [
    "#Estaciones de salida.Franja Horaria Desde las 19  hasta las 00\n",
    "grupoSalidaNoche = dfViajes[(dfViajes.start_date.dt.hour > 19)]\n",
    "salida4 = grupoSalidaNoche.groupby(grupoSalidaNoche['start_station_name']).count().sort_values(by='id',ascending = False).id\n",
    "plt.title('Cantidad de salidas desde 19:00hs a 00:00hs')\n",
    "plt.ylabel('numero de salidas')\n",
    "plt.xlabel('estacion de salida')\n",
    "salida4.head(5).plot(kind = 'bar')\n",
    "plt.show()"
   ]
  },
  {
   "cell_type": "code",
   "execution_count": null,
   "metadata": {
    "collapsed": false,
    "deletable": true,
    "editable": true
   },
   "outputs": [],
   "source": [
    "#Estaciones de salida.Franja Horaria Desde las 00 hasta las 6\n",
    "grupoSalidaTransnoche = dfViajes[(dfViajes.start_date.dt.hour < 6)]\n",
    "salida5 = grupoSalidaTransnoche.groupby(grupoSalidaTransnoche['start_station_name']).count().sort_values(by='id',ascending = False).id\n",
    "plt.title('Cantidad de salidas desde 00:00hs a 6:00hs')\n",
    "plt.ylabel('numero de salidas')\n",
    "plt.xlabel('estacion de salida')\n",
    "salida5.head(5).plot(kind = 'bar')\n",
    "plt.show()"
   ]
  },
  {
   "cell_type": "code",
   "execution_count": null,
   "metadata": {
    "collapsed": false,
    "deletable": true,
    "editable": true
   },
   "outputs": [],
   "source": [
    "#Estaciones de llegada.Franja Horaria Desde las 06 hasta las 12\n",
    "grupoLlegadaManiana = dfViajes[(dfViajes.end_date.dt.hour > 6 )&(dfViajes.end_date.dt.hour < 12)]\n",
    "llegada1 = grupoLlegadaManiana.groupby(grupoLlegadaManiana['end_station_name']).count().sort_values(by='id',ascending = False).id\n",
    "plt.title('Cantidad de arrivos desde 06:00hs a 12:00hs')\n",
    "plt.ylabel('numero de arrivos')\n",
    "plt.xlabel('estacion de llegada')\n",
    "llegada1.head(5).plot(kind = 'bar')\n",
    "plt.show()"
   ]
  },
  {
   "cell_type": "code",
   "execution_count": null,
   "metadata": {
    "collapsed": false,
    "deletable": true,
    "editable": true
   },
   "outputs": [],
   "source": [
    "#Estaciones de llegada.Franja Horaria Desde las 12 hasta las 14\n",
    "grupoLlegadaMediodia = dfViajes[(dfViajes.end_date.dt.hour > 12 )&(dfViajes.end_date.dt.hour < 14)]\n",
    "llegada2 = grupoLlegadaMediodia.groupby(grupoLlegadaMediodia['end_station_name']).count().sort_values(by='id',ascending = False).id\n",
    "plt.title('Cantidad de arrivos desde 12:00hs a 14:00hs')\n",
    "plt.ylabel('numero de arrivos')\n",
    "plt.xlabel('estacion de llegada')\n",
    "llegada2.head(5).plot(kind = 'bar')\n",
    "plt.show()"
   ]
  },
  {
   "cell_type": "code",
   "execution_count": null,
   "metadata": {
    "collapsed": false,
    "deletable": true,
    "editable": true
   },
   "outputs": [],
   "source": [
    "#Estaciones de llegada.Franja Horaria Desde las 14 hasta las 19\n",
    "grupoLlegadaTarde = dfViajes[(dfViajes.end_date.dt.hour > 14 )&(dfViajes.end_date.dt.hour < 19)]\n",
    "llegada3 = grupoLlegadaTarde.groupby(grupoLlegadaTarde['end_station_name']).count().sort_values(by='id',ascending = False).id\n",
    "plt.title('Cantidad de arrivos desde 14:00hs a 19:00hs')\n",
    "plt.ylabel('numero de arrivos')\n",
    "plt.xlabel('estacion de llegada')\n",
    "llegada3.head(5).plot(kind = 'bar')\n",
    "plt.show()"
   ]
  },
  {
   "cell_type": "code",
   "execution_count": null,
   "metadata": {
    "collapsed": false,
    "deletable": true,
    "editable": true
   },
   "outputs": [],
   "source": [
    "#Estaciones de salida.Franja Horaria Desde las 19 hasta las 00\n",
    "grupoLlegadaNoche = dfViajes[(dfViajes.end_date.dt.hour > 19)]\n",
    "llegada4 = grupoLlegadaNoche.groupby(grupoLlegadaNoche['end_station_name']).count().sort_values(by='id',ascending = False).id\n",
    "plt.title('Cantidad de arrivos desde 19:00hs a 00:00hs')\n",
    "plt.ylabel('numero de arrivos')\n",
    "plt.xlabel('estacion de llegada')\n",
    "llegada4.head(5).plot(kind = 'bar')\n",
    "plt.show()"
   ]
  },
  {
   "cell_type": "code",
   "execution_count": null,
   "metadata": {
    "collapsed": false,
    "deletable": true,
    "editable": true,
    "scrolled": false
   },
   "outputs": [],
   "source": [
    "#Estaciones de llegada.Franja Horaria Desde las 00 hasta las 6\n",
    "grupoLlegadaTransnoche = dfViajes[(dfViajes.end_date.dt.hour < 6)]\n",
    "llegada5 = grupoLlegadaTransnoche.groupby(grupoLlegadaTransnoche['end_station_name']).count().sort_values(by='id',ascending = False).id\n",
    "plt.title('Cantidad de arrivos desde 00:00hs a 06:00hs')\n",
    "plt.ylabel('numero de arrivos')\n",
    "plt.xlabel('estacion de llegada')\n",
    "llegada5.head(5).plot(kind = 'bar')\n",
    "plt.show()"
   ]
  },
  {
   "cell_type": "code",
   "execution_count": null,
   "metadata": {
    "collapsed": false,
    "deletable": true,
    "editable": true
   },
   "outputs": [],
   "source": [
    "dfViajes['hour'] = dfViajes.start_date.dt.hour\n",
    "#averiguamos cuantos viajes se hicieron por hora\n",
    "viajesHora = {}\n",
    "for d in dfViajes.hour:\n",
    "    if d not in viajesHora:\n",
    "        viajesHora[d] = 1\n",
    "    else:\n",
    "        viajesHora[d] += 1\n",
    "viajesHora"
   ]
  },
  {
   "cell_type": "code",
   "execution_count": null,
   "metadata": {
    "collapsed": false,
    "deletable": true,
    "editable": true
   },
   "outputs": [],
   "source": [
    "#Grafico de la cantidad de viajes totales en funcion de las horas.\n",
    "viajesPorHora = pd.DataFrame.from_dict(viajesHora, orient = 'index')\n",
    "plt.title('Cantidad de Viajes por franja horaria')\n",
    "plt.xlabel('horas del dia')\n",
    "plt.xlim(0,23)\n",
    "plt.ylabel('viajes totales')\n",
    "indice = np.arange(24)\n",
    "valores = ['0:00','1:00','2:00','3:00','4:00','5:00','6:00','7:00','8:00','9:00','10:00','11:00','12:00',\n",
    "           '13:00','14:00','15:00','16:00','17:00','18:00','19:00','20:00','21:00','22:00','23:00']\n",
    "plt.xticks(indice,valores)\n",
    "plt.plot(viajesPorHora)\n",
    "plt.show()"
   ]
  },
  {
   "cell_type": "code",
   "execution_count": null,
   "metadata": {
    "collapsed": false,
    "deletable": true,
    "editable": true
   },
   "outputs": [],
   "source": [
    "#PARA CADA MES CALCULAR LA DURACION PROMEDIO\n",
    "import calendar\n",
    "plt.ion()\n",
    "meses = calendar.month_name[1:13]\n",
    "indice = np.arange(12)\n",
    "duracionPromedioMeses = np.arange(12,dtype=np.float)\n",
    "dfViajes['month']= dfViajes.start_date.dt.month\n",
    "for i in duracionPromedioMeses:\n",
    "    dfViajesMes = dfViajes[dfViajes['month'] == (i + 1)]\n",
    "    promedioMes = dfViajesMes.duration.mean()\n",
    "    duracionPromedioMeses[i] = promedioMes\n",
    "plt.title('Average length of travel according to months of the year')\n",
    "plt.xlabel('Months')\n",
    "plt.ylabel('Average duration (minutes)')\n",
    "plt.xticks(indice,meses, size = 'small', color = 'b', rotation = 45)\n",
    "plt.plot(duracionPromedioMeses)\n",
    "plt.show()"
   ]
  },
  {
   "cell_type": "markdown",
   "metadata": {
    "deletable": true,
    "editable": true
   },
   "source": [
    "## PARTE TURI"
   ]
  },
  {
   "cell_type": "markdown",
   "metadata": {
    "deletable": true,
    "editable": true
   },
   "source": [
    "## A partir de los graficos que obtengamos voy a proponer un objetivo claro."
   ]
  },
  {
   "cell_type": "code",
   "execution_count": null,
   "metadata": {
    "collapsed": false,
    "deletable": true,
    "editable": true
   },
   "outputs": [],
   "source": [
    "dfViajes['date'] = dfViajes.start_date.dt.date\n",
    "# Averiguamos cuantos viajes se hicieron por dia\n",
    "dates = {}\n",
    "for d in dfViajes.date:\n",
    "    if d not in dates:\n",
    "        dates[d] = 1\n",
    "    else:\n",
    "        dates[d] += 1\n",
    "dates"
   ]
  },
  {
   "cell_type": "code",
   "execution_count": null,
   "metadata": {
    "collapsed": false,
    "deletable": true,
    "editable": true
   },
   "outputs": [],
   "source": [
    "\n",
    "dfCantViajes = pd.DataFrame.from_dict(dates, orient = \"index\")\n",
    "dfCantViajes['date'] = dfCantViajes.index\n",
    "dfCantViajes['viajes'] = dfCantViajes.ix[:,0]\n",
    "dfSF_Bay = dfCantViajes.ix[:,1:3]\n",
    "dfSF_Bay = dfSF_Bay.sort_values('date') #Ordeno por fecha\n",
    "dfSF_Bay.reset_index(drop = True, inplace = True) # Queda mas prolijo con indice de 0 a ...\n",
    "dfSF_Bay"
   ]
  },
  {
   "cell_type": "code",
   "execution_count": null,
   "metadata": {
    "collapsed": false,
    "deletable": true,
    "editable": true
   },
   "outputs": [],
   "source": [
    "print((dfCantViajes).info()) "
   ]
  },
  {
   "cell_type": "code",
   "execution_count": null,
   "metadata": {
    "collapsed": false,
    "deletable": true,
    "editable": true,
    "scrolled": true
   },
   "outputs": [],
   "source": [
    "print((dfViajes).info()) \n"
   ]
  },
  {
   "cell_type": "code",
   "execution_count": null,
   "metadata": {
    "collapsed": false,
    "deletable": true,
    "editable": true
   },
   "outputs": [],
   "source": [
    "#Hacemos un merge, para obtener los viajes con el clima\n",
    "dfSF_Bay = dfSF_Bay.merge(dfClimaLimpio, on = dfSF_Bay.date)\n",
    "dfSF_Bay"
   ]
  },
  {
   "cell_type": "code",
   "execution_count": null,
   "metadata": {
    "collapsed": false,
    "deletable": true,
    "editable": true
   },
   "outputs": [],
   "source": [
    "dfSF_Bay['date'] = dfSF_Bay['date_x']\n",
    "dfSF_Bay.drop(['date_y','date_x'],1, inplace= True)\n",
    "#Limpio esos features repetidos"
   ]
  },
  {
   "cell_type": "code",
   "execution_count": null,
   "metadata": {
    "collapsed": false,
    "deletable": true,
    "editable": true,
    "scrolled": true
   },
   "outputs": [],
   "source": [
    "dfSF_Bay #todo ok"
   ]
  },
  {
   "cell_type": "markdown",
   "metadata": {
    "deletable": true,
    "editable": true
   },
   "source": [
    "## Si no usamos total_docks hay que borrarlo"
   ]
  },
  {
   "cell_type": "code",
   "execution_count": null,
   "metadata": {
    "collapsed": false,
    "deletable": true,
    "editable": true
   },
   "outputs": [],
   "source": [
    "total_docks = []\n",
    "for day in dfSF_Bay.date:\n",
    "    total_docks.append(sum(dfEstaciones[dfEstaciones.installation_date <= day].dock_count))"
   ]
  },
  {
   "cell_type": "code",
   "execution_count": null,
   "metadata": {
    "collapsed": false,
    "deletable": true,
    "editable": true
   },
   "outputs": [],
   "source": [
    "dfSF_Bay['total_docks'] = total_docks"
   ]
  },
  {
   "cell_type": "code",
   "execution_count": null,
   "metadata": {
    "collapsed": false,
    "deletable": true,
    "editable": true
   },
   "outputs": [],
   "source": [
    "dfSF_Bay"
   ]
  },
  {
   "cell_type": "code",
   "execution_count": null,
   "metadata": {
    "collapsed": false,
    "deletable": true,
    "editable": true
   },
   "outputs": [],
   "source": [
    "#Buscamos los feriados en el calendario estadounidense\n",
    "calendar = USFederalHolidayCalendar()\n",
    "holidays = calendar.holidays(start=dfSF_Bay.date.min(), end=dfSF_Bay.date.max())\n",
    "holidays"
   ]
  },
  {
   "cell_type": "code",
   "execution_count": null,
   "metadata": {
    "collapsed": true,
    "deletable": true,
    "editable": true
   },
   "outputs": [],
   "source": [
    "#Buscamos los dias laborables en el calendario estadounidense\n",
    "us_bd = CustomBusinessDay(calendar=USFederalHolidayCalendar())\n",
    "business_days = pd.DatetimeIndex(start=dfSF_Bay.date.min(), end=dfSF_Bay.date.max(), freq=us_bd)"
   ]
  },
  {
   "cell_type": "code",
   "execution_count": null,
   "metadata": {
    "collapsed": true,
    "deletable": true,
    "editable": true
   },
   "outputs": [],
   "source": [
    "business_days = pd.to_datetime(business_days, format='%Y/%m/%d').date\n",
    "holidays = pd.to_datetime(holidays, format='%Y/%m/%d').date"
   ]
  },
  {
   "cell_type": "code",
   "execution_count": null,
   "metadata": {
    "collapsed": false,
    "deletable": true,
    "editable": true
   },
   "outputs": [],
   "source": [
    "# Lo agregamos al dataframe\n",
    "dfSF_Bay['business_day'] = dfSF_Bay.date.isin(business_days)\n",
    "dfSF_Bay['holiday'] = dfSF_Bay.date.isin(holidays)\n",
    "dfSF_Bay"
   ]
  },
  {
   "cell_type": "code",
   "execution_count": null,
   "metadata": {
    "collapsed": false,
    "deletable": true,
    "editable": true
   },
   "outputs": [],
   "source": [
    "dfSF_Bay.dtypes"
   ]
  },
  {
   "cell_type": "code",
   "execution_count": null,
   "metadata": {
    "collapsed": false,
    "deletable": true,
    "editable": true
   },
   "outputs": [],
   "source": [
    "#Convert True to 1 and False to 0\n",
    "dfSF_Bay.business_day = dfSF_Bay.business_day.map(lambda x: 1 if x == True else 0)\n",
    "dfSF_Bay.holiday = dfSF_Bay.holiday.map(lambda x: 1 if x == True else 0)\n",
    "dfSF_Bay"
   ]
  },
  {
   "cell_type": "code",
   "execution_count": null,
   "metadata": {
    "collapsed": false,
    "deletable": true,
    "editable": true
   },
   "outputs": [],
   "source": [
    "#Convert date to the important features, year, month, weekday (0 = Monday, 1 = Tuesday...)\n",
    "#We don't need day because what it represents changes every year.\n",
    "dfSF_Bay['year'] = pd.to_datetime(dfSF_Bay['date']).dt.year\n",
    "dfSF_Bay['month'] = pd.to_datetime(dfSF_Bay['date']).dt.month\n",
    "dfSF_Bay['weekday'] = pd.to_datetime(dfSF_Bay['date']).dt.weekday\n"
   ]
  },
  {
   "cell_type": "markdown",
   "metadata": {
    "deletable": true,
    "editable": true
   },
   "source": [
    "## DFTIMELINE"
   ]
  },
  {
   "cell_type": "code",
   "execution_count": null,
   "metadata": {
    "collapsed": false,
    "deletable": true,
    "editable": true
   },
   "outputs": [],
   "source": [
    "dfTimeline = pd.DataFrame(columns=['name','Inauguracion','Uso_de_Estacion_P','Salida_P','Entrada_P'])\n",
    "dfTimeline.name = dfEstaciones.name\n",
    "dfTimeline.Inauguracion = dfEstaciones.installation_date\n",
    "dfTimeline = pd.merge(dfTimeline, dfRanking, on='name', how='inner')\n",
    "dfTimeline.Inauguracion = pd.to_datetime(dfTimeline.Inauguracion, format = \"%Y/%m/%d\")\n",
    "\n",
    "dfTimeline = pd.merge(dfTimeline, dfEstaciones, on='name', how='inner')\n",
    "del dfTimeline['installation_date']\n"
   ]
  },
  {
   "cell_type": "code",
   "execution_count": null,
   "metadata": {
    "collapsed": false,
    "deletable": true,
    "editable": true
   },
   "outputs": [],
   "source": [
    "bicicletasQueSalieron = dfTimeline.bicicletas_que_salieron.sum()\n",
    "bicicletasQueEntraron = dfTimeline.bicicletas_que_entraron.sum()\n",
    "bicicletasPromedio = dfTimeline.promedio.sum()\n",
    "\n",
    "dfTimeline.Uso_de_Estacion_P = dfTimeline.promedio.apply(lambda x: (100*x)/bicicletasPromedio)\n",
    "dfTimeline.Salida_P = dfTimeline.bicicletas_que_salieron.apply(lambda x: float((100*x)/bicicletasQueSalieron))\n",
    "dfTimeline.Entrada_P = dfTimeline.bicicletas_que_entraron.apply(lambda x: float((100*x)/bicicletasQueEntraron))\n"
   ]
  },
  {
   "cell_type": "code",
   "execution_count": null,
   "metadata": {
    "collapsed": false,
    "deletable": true,
    "editable": true
   },
   "outputs": [],
   "source": [
    "dfTimeline.sort_values(by='promedio')\n"
   ]
  },
  {
   "cell_type": "code",
   "execution_count": null,
   "metadata": {
    "collapsed": false,
    "deletable": true,
    "editable": true
   },
   "outputs": [],
   "source": [
    "dfSF_BayHeatmap1 = dfSF_Bay.loc[:,['viajes','max_dew_point_c','mean_temperature_c','mean_humidity','precipitation_cm','mean_visibility_km','mean_wind_speed_kmh']].corr()\n",
    "dfSF_BayHeatmap2 =dfSF_Bay.loc[:,['viajes','Fog','Fog-Rain','Normal','Rain']].corr()"
   ]
  },
  {
   "cell_type": "code",
   "execution_count": null,
   "metadata": {
    "collapsed": false,
    "deletable": true,
    "editable": true
   },
   "outputs": [],
   "source": [
    "dfSF_BayHeatmap2"
   ]
  },
  {
   "cell_type": "markdown",
   "metadata": {
    "deletable": true,
    "editable": true
   },
   "source": [
    "# PLOT ZONE, MOMENTANEA, LA IDEA ES HACER ANALISIS Y PLOT JUNTO NO SEPARADO"
   ]
  },
  {
   "cell_type": "code",
   "execution_count": null,
   "metadata": {
    "collapsed": false,
    "deletable": true,
    "editable": true
   },
   "outputs": [],
   "source": [
    "import plotly \n",
    "import plotly.graph_objs as go\n",
    "import plotly.plotly as py\n",
    "from plotly.graph_objs import *\n",
    "plotly.offline.init_notebook_mode()\n",
    "plotly.tools.set_credentials_file(username='AARdfSF_Bay', api_key='XFLHonutbTpz1cZ77dcl')\n",
    "\n"
   ]
  },
  {
   "cell_type": "code",
   "execution_count": null,
   "metadata": {
    "collapsed": false,
    "deletable": true,
    "editable": true,
    "scrolled": false
   },
   "outputs": [],
   "source": [
    "dfTimeline = dfTimeline.sort_values(by= 'Salida_P')\n",
    "data = [\n",
    "    go.Bar(\n",
    "        x=dfTimeline.Salida_P, # assign x as the dataframe column 'x'\n",
    "        y=dfTimeline.name,\n",
    "        orientation='h',\n",
    "        \n",
    "    )\n",
    "]\n",
    "\n",
    "\n",
    "url = plotly.offline.iplot(data, filename='pandas-horizontal-bar')\n",
    "\n"
   ]
  },
  {
   "cell_type": "code",
   "execution_count": null,
   "metadata": {
    "collapsed": false,
    "deletable": true,
    "editable": true
   },
   "outputs": [],
   "source": [
    "dfTimeline = dfTimeline.sort_values(by= 'Uso_de_Estacion_P')\n",
    "data = [\n",
    "    go.Bar(\n",
    "        x=dfTimeline.Uso_de_Estacion_P, # assign x as the dataframe column 'x'\n",
    "        y=dfTimeline.name,\n",
    "        orientation='h',\n",
    "        \n",
    "    )\n",
    "]\n",
    "\n",
    "url = plotly.offline.iplot(data, filename='pandas-horizontal-bar')\n"
   ]
  },
  {
   "cell_type": "code",
   "execution_count": null,
   "metadata": {
    "collapsed": false,
    "deletable": true,
    "editable": true
   },
   "outputs": [],
   "source": [
    "dfTimeline = dfTimeline.sort_values(by='Inauguracion')\n",
    "data = [\n",
    "    go.Bar(\n",
    "        x=dfTimeline.Uso_de_Estacion_P, # assign x as the dataframe column 'x'\n",
    "        y=dfTimeline.Inauguracion,\n",
    "        orientation='h',\n",
    "        \n",
    "    )\n",
    "]\n",
    "\n",
    "url = plotly.offline.iplot(data, filename='pandas-horizontal-bar')\n"
   ]
  },
  {
   "cell_type": "code",
   "execution_count": null,
   "metadata": {
    "collapsed": false,
    "deletable": true,
    "editable": true
   },
   "outputs": [],
   "source": [
    "dfTimeline = dfTimeline.sort_values(by='Inauguracion')\n",
    "data = [\n",
    "    go.Bar(\n",
    "        x=dfTimeline.Uso_de_Estacion_P, # assign x as the dataframe column 'x'\n",
    "        y=dfTimeline.city,\n",
    "        orientation='h',\n",
    "        \n",
    "    )\n",
    "]\n",
    "\n",
    "url = plotly.offline.iplot(data, filename='pandas-horizontal-bar')\n"
   ]
  },
  {
   "cell_type": "code",
   "execution_count": null,
   "metadata": {
    "collapsed": false,
    "deletable": true,
    "editable": true
   },
   "outputs": [],
   "source": [
    "data = [go.Heatmap( z=dfTimeline.values.tolist(),y=dfTimeline.Salida_P.values.tolist(), colorscale='Viridis')]\n",
    "url = plotly.offline.iplot(data, filename='pandas-heatmap')"
   ]
  },
  {
   "cell_type": "code",
   "execution_count": null,
   "metadata": {
    "collapsed": false,
    "deletable": true,
    "editable": true
   },
   "outputs": [],
   "source": []
  },
  {
   "cell_type": "code",
   "execution_count": null,
   "metadata": {
    "collapsed": false,
    "deletable": true,
    "editable": true
   },
   "outputs": [],
   "source": [
    "\n",
    "trace = go.Heatmap(z=[dfSF_Bay.max_temperature_c.values.tolist()],\n",
    "                   x=[dfSF_Bay.month.values.tolist()],\n",
    "                    y=[dfSF_Bay.min_temperature_c.values.tolist()],\n",
    "                    colorscale='Virdis')\n",
    "\n",
    "\n",
    "data=[trace]\n",
    "url = plotly.offline.iplot(data, filename='pandas-heatmap')"
   ]
  },
  {
   "cell_type": "code",
   "execution_count": null,
   "metadata": {
    "collapsed": false,
    "deletable": true,
    "editable": true
   },
   "outputs": [],
   "source": [
    "\n",
    "data = [\n",
    "    go.Bar(\n",
    "        x=dfTimeline.promedio, # assign x as the dataframe column 'x'\n",
    "        y=dfTimeline.Inauguracion,\n",
    "        orientation='h',\n",
    "    )\n",
    "]\n",
    "\n",
    "# IPython notebook\n",
    "# py.iplot(data, filename='pandas-horizontal-bar')\n",
    "\n",
    "url = plotly.offline.iplot(data, filename='pandas-horizontal-bar')\n",
    "\n",
    "data = [go.Histogram(y=dfTimeline.promedio,x=dfTimeline.Inauguracion)]"
   ]
  },
  {
   "cell_type": "code",
   "execution_count": null,
   "metadata": {
    "collapsed": false,
    "deletable": true,
    "editable": true
   },
   "outputs": [],
   "source": [
    "%matplotlib nbagg\n"
   ]
  },
  {
   "cell_type": "code",
   "execution_count": null,
   "metadata": {
    "collapsed": false,
    "deletable": true,
    "editable": true,
    "scrolled": false
   },
   "outputs": [],
   "source": [
    "dfSF_Bay.plot.scatter('viajes','weekday',alpha=0.25,figsize=(12,8));"
   ]
  },
  {
   "cell_type": "code",
   "execution_count": null,
   "metadata": {
    "collapsed": false,
    "deletable": true,
    "editable": true
   },
   "outputs": [],
   "source": [
    "import seaborn as sns\n",
    "fig, ax = plt.subplots(figsize=(16,5));        # Sample figsize in inches\n",
    "cor = dfSF_BayHeatmap2.abs()\n",
    "cor.values[[np.arange(5)]*2] = 0\n",
    "sns.heatmap(cor,cmap='Oranges');"
   ]
  },
  {
   "cell_type": "code",
   "execution_count": null,
   "metadata": {
    "collapsed": false,
    "deletable": true,
    "editable": true,
    "scrolled": true
   },
   "outputs": [],
   "source": [
    "fig, ax = plt.subplots(figsize=(16,5));        # Sample figsize in inches\n",
    "cor = dfSF_BayHeatmap1.abs()\n",
    "cor.values[[np.arange(7)]*2] = 0\n",
    "sns.heatmap(cor,cmap='Oranges');"
   ]
  },
  {
   "cell_type": "markdown",
   "metadata": {
    "deletable": true,
    "editable": true
   },
   "source": [
    "# PARTE MATIAS"
   ]
  },
  {
   "cell_type": "code",
   "execution_count": null,
   "metadata": {
    "collapsed": true,
    "deletable": true,
    "editable": true
   },
   "outputs": [],
   "source": [
    "latPromedio = dfEstaciones.lat.mean()\n",
    "longPromedio = dfEstaciones.long.mean()\n",
    "cantidadTotalDeBicicletasSoportadas = dfEstaciones.dock_count.sum()\n",
    "print cantidadTotalDeBicicletasSoportadas"
   ]
  },
  {
   "cell_type": "code",
   "execution_count": null,
   "metadata": {
    "collapsed": true,
    "deletable": true,
    "editable": true
   },
   "outputs": [],
   "source": [
    "map1 = folium.Map(location=[latPromedio, longPromedio], tiles = \"Stamen Terrain\")\n",
    "map1Copy = folium.Map(location=[latPromedio, longPromedio], tiles = \"Stamen Terrain\")\n",
    "map2 = folium.Map(location=[latPromedio, longPromedio], tiles = \"Stamen Terrain\")\n",
    "startStationMap = folium.Map(location=[latPromedio, longPromedio], tiles = \"Stamen Terrain\")\n",
    "viajesEntreEstacionesMap = folium.Map(location=[latPromedio, longPromedio], tiles = \"Stamen Terrain\")"
   ]
  },
  {
   "cell_type": "code",
   "execution_count": null,
   "metadata": {
    "collapsed": true,
    "deletable": true,
    "editable": true
   },
   "outputs": [],
   "source": [
    "grupoDeUbicaciones = folium.FeatureGroup(name='Ubicación de estaciones 1')\n",
    "for lat, lon, nombre in zip(dfEstaciones.lat, dfEstaciones.long, dfEstaciones.name):\n",
    "    grupoDeUbicaciones.add_child(folium.Marker(location=[lat,lon], popup=nombre))\n",
    "    \n",
    "map1.add_child(grupoDeUbicaciones)"
   ]
  },
  {
   "cell_type": "code",
   "execution_count": null,
   "metadata": {
    "collapsed": true,
    "deletable": true,
    "editable": true
   },
   "outputs": [],
   "source": [
    "# Ahora intento version con MarkerCluster\n",
    "# map1Copy.add_child(folium.MarkerCluster(locations=list(zip(dfEstaciones.long, dfEstaciones.lat))))\n",
    "\n",
    "clusterDeUbicaciones = folium.MarkerCluster().add_to(map1Copy)\n",
    "for lat, lon, nombre in zip(dfEstaciones.lat, dfEstaciones.long, dfEstaciones.name):\n",
    "    folium.Marker(location=[lat,lon], popup=nombre).add_to(clusterDeUbicaciones)\n",
    "    \n",
    "# map1.add_child(grupoDeUbicaciones)\n",
    "map1Copy"
   ]
  },
  {
   "cell_type": "code",
   "execution_count": null,
   "metadata": {
    "collapsed": true,
    "deletable": true,
    "editable": true
   },
   "outputs": [],
   "source": [
    "grupoDeUbicacionesConCantidades = folium.FeatureGroup(name='Ubicación de estaciones')\n",
    "for lat, lon, nombre, cantidadDeBicicletasSoportadas in zip(dfEstaciones.lat, dfEstaciones.long, dfEstaciones.name, dfEstaciones.dock_count):\n",
    "    grupoDeUbicacionesConCantidades.add_child(folium.CircleMarker(location=[lat,lon], popup=nombre, \n",
    "                                                     radius=cantidadDeBicicletasSoportadas, \n",
    "                                                     fill_color='#b3ffb3', color='#00ff00'))\n",
    "    \n",
    "map2.add_child(grupoDeUbicacionesConCantidades)"
   ]
  },
  {
   "cell_type": "code",
   "execution_count": null,
   "metadata": {
    "collapsed": true,
    "deletable": true,
    "editable": true
   },
   "outputs": [],
   "source": [
    "dfStartStationCount = dfViajes[['id', 'start_station_id']].groupby(by='start_station_id', as_index=False)\\\n",
    "                                                .count().rename(columns={'id': 'cantidad_de_partidas'})\n",
    "dfStartStationCount"
   ]
  },
  {
   "cell_type": "code",
   "execution_count": null,
   "metadata": {
    "collapsed": true,
    "deletable": true,
    "editable": true
   },
   "outputs": [],
   "source": [
    "dfPartidas = dfEstaciones[['id', 'lat', 'long', 'name']].merge(pd.DataFrame(dfStartStationCount), \\\n",
    "         left_on='id', right_on='start_station_id', how='right')\n",
    "dfPartidas"
   ]
  },
  {
   "cell_type": "code",
   "execution_count": null,
   "metadata": {
    "collapsed": true,
    "deletable": true,
    "editable": true
   },
   "outputs": [],
   "source": [
    "cantidad_de_partidas_maxima = dfPartidas.cantidad_de_partidas.max()\n",
    "cantidad_de_partidas_maxima"
   ]
  },
  {
   "cell_type": "code",
   "execution_count": null,
   "metadata": {
    "collapsed": true,
    "deletable": true,
    "editable": true
   },
   "outputs": [],
   "source": [
    "grupoDeUbicacionesConCantidadesDePartidas = folium.FeatureGroup(name='Ubicación de estaciones con infor de #partidas')\n",
    "for lat, lon, nombre, cant in zip(dfPartidas.lat, dfPartidas.long, dfPartidas.name, dfPartidas.cantidad_de_partidas):\n",
    "    grupoDeUbicacionesConCantidadesDePartidas.add_child(folium.CircleMarker(location=[lat,lon], popup=nombre, \n",
    "                                                     radius=cant/1000,\n",
    "                                                     fill_color='#8A2BE2', color='#00ff00'))\n",
    "    \n",
    "startStationMap.add_child(grupoDeUbicacionesConCantidadesDePartidas)"
   ]
  },
  {
   "cell_type": "code",
   "execution_count": null,
   "metadata": {
    "collapsed": true,
    "deletable": true,
    "editable": true
   },
   "outputs": [],
   "source": [
    "# df = pd.DataFrame(columns=['start_station_id', 'start_station_lat', 'start_station_lon',\n",
    "#                            'end_station_id', 'end_station_lat', 'end_station_lon'])\n",
    "# df.start_station_id = dfViajes.start_station_id\n",
    "# df\n",
    "# dfStartStationCount['start_station_lat'] = dfEstaciones['lat']\n",
    "# dfStartStationCount['start_station_lon'] = dfEstaciones['long']\n",
    "# dfStartStationCount['name'] = dfEstaciones['name']\n",
    "# for idEstacionSalida in dfStartStationCount.index.tolist():\n",
    "#     dfStartStationCount['start_station_lat'] = dfEstaciones.loc[dfEstaciones.id == idEstacionSalida, 'lat'] \n",
    "# dfStartStationCount"
   ]
  },
  {
   "cell_type": "code",
   "execution_count": null,
   "metadata": {
    "collapsed": true,
    "deletable": true,
    "editable": true
   },
   "outputs": [],
   "source": [
    "# grupoDeUbicacionesConCantidades = folium.FeatureGroup(name='Ubicación de estaciones')\n",
    "# for lat, lon, nombre, cantidadDeBicicletasSoportadas in zip(dfEstaciones.lat, dfEstaciones.long, dfEstaciones.name, dfEstaciones.dock_count):\n",
    "#     grupoDeUbicacionesConCantidades.add_child(folium.CircleMarker(location=[lat,lon], popup=nombre, \n",
    "#                                                      radius=cantidadDeBicicletasSoportadas, \n",
    "#                                                      fill_color='#b3ffb3', color='#00ff00'))\n",
    "    \n",
    "# map2.add_child(grupoDeUbicacionesConCantidades)"
   ]
  },
  {
   "cell_type": "code",
   "execution_count": null,
   "metadata": {
    "collapsed": true,
    "deletable": true,
    "editable": true
   },
   "outputs": [],
   "source": [
    "dfViajesEntreEstaciones = dfViajes[['id', 'start_station_id', 'end_station_id']]\\\n",
    "        .groupby(by=['start_station_id', 'end_station_id'], as_index=False)\\\n",
    "        .count().rename(columns={'id': 'cantidad'})\n",
    "dfViajesEntreEstaciones"
   ]
  },
  {
   "cell_type": "code",
   "execution_count": null,
   "metadata": {
    "collapsed": true,
    "deletable": true,
    "editable": true
   },
   "outputs": [],
   "source": [
    "dfViajesEntreEstaciones = dfViajesEntreEstaciones.merge(right=dfEstaciones[['lat', 'long', 'id', 'name']], \\\n",
    "                              left_on='start_station_id', right_on='id')\\\n",
    "                            .drop(['id'], 1).rename(columns={'lat': 'start_station_lat', 'long': \\\n",
    "                                                          'start_station_long', 'name': 'start_station_name'})"
   ]
  },
  {
   "cell_type": "code",
   "execution_count": null,
   "metadata": {
    "collapsed": true,
    "deletable": true,
    "editable": true
   },
   "outputs": [],
   "source": [
    "dfViajesEntreEstaciones = dfViajesEntreEstaciones.merge(right=dfEstaciones[['lat', 'long', 'id', 'name']], \\\n",
    "                              left_on='end_station_id', right_on='id')\\\n",
    "                            .drop(['id'], 1).rename(columns={'lat': 'end_station_lat', 'long': \\\n",
    "                                                          'end_station_long', 'name': 'end_station_name'})\n",
    "dfViajesEntreEstaciones.sort_values(by='cantidad', ascending=True)"
   ]
  },
  {
   "cell_type": "code",
   "execution_count": null,
   "metadata": {
    "collapsed": true,
    "deletable": true,
    "editable": true
   },
   "outputs": [],
   "source": [
    "dfViajesEntreEstaciones.cantidad.describe()"
   ]
  },
  {
   "cell_type": "code",
   "execution_count": null,
   "metadata": {
    "collapsed": true,
    "deletable": true,
    "editable": true
   },
   "outputs": [],
   "source": [
    "maxCantidadDeViajes = dfViajesEntreEstaciones.cantidad.max()\n",
    "promedioCantidadDeViajes = dfViajesEntreEstaciones.cantidad.mean()\n",
    "dfViajesEntreEstaciones.cantidad.max()"
   ]
  },
  {
   "cell_type": "code",
   "execution_count": null,
   "metadata": {
    "collapsed": true,
    "deletable": true,
    "editable": true
   },
   "outputs": [],
   "source": [
    "# colores = cm.LinearColormap(['green', 'orange', 'red'], vmax=maxCantidadDeViajes, \n",
    "#                   index=[0, promedioCantidadDeViajes, maxCantidadDeViajes])\n",
    "\n",
    "# colores = cm.LinearColormap(['red', 'orange', 'yellow', 'green'], vmax = maxCantidadDeViajes)\n",
    "\n",
    "colores = cm.StepColormap(['green', 'yellow', 'magenta', 'red'],\n",
    "                       vmin=1, vmax=maxCantidadDeViajes, index=[1, 71.5, 191, 440, maxCantidadDeViajes],\n",
    "                       caption='step')\n",
    "colores.caption = 'Cantidad de viajes entre estaciones'\n",
    "# colores = cm.linear.Set1.scale(0, maxCantidadDeViajes).to_step(\n",
    "# #     n=4,\n",
    "#     index=[1, 71.5, 191, 440, 6216],\n",
    "# #     method='quantiles',\n",
    "# #     round_method='int'\n",
    "# )\n",
    "# colores.to_linear()\n",
    "colores2 = cm.linear.YlGn.scale(0, 6000)\n",
    "#colores3 = cm.linear.RdGy.to_step(100).scale(0, 6000)\n",
    "\n",
    "\n",
    "colores2"
   ]
  },
  {
   "cell_type": "code",
   "execution_count": null,
   "metadata": {
    "collapsed": true,
    "deletable": true,
    "editable": true
   },
   "outputs": [],
   "source": [
    "linesMap = folium.Map(location=[latPromedio, longPromedio], tiles = \"Stamen Terrain\")\n",
    "linesMap.add_child(colores2)"
   ]
  },
  {
   "cell_type": "code",
   "execution_count": null,
   "metadata": {
    "collapsed": true,
    "deletable": true,
    "editable": true
   },
   "outputs": [],
   "source": [
    "clusterDeUbicaciones = folium.MarkerCluster().add_to(linesMap)\n",
    "for lat, lon, nombre in zip(dfEstaciones.lat, dfEstaciones.long, dfEstaciones.name):\n",
    "    folium.Marker(location=[lat,lon], popup=nombre).add_to(clusterDeUbicaciones)"
   ]
  },
  {
   "cell_type": "code",
   "execution_count": null,
   "metadata": {
    "collapsed": true,
    "deletable": true,
    "editable": true
   },
   "outputs": [],
   "source": [
    "for startLat, startLon, startName, endLat, endLon, endName, cant in zip(dfViajesEntreEstaciones.start_station_lat,\\\n",
    "                                                                       dfViajesEntreEstaciones.start_station_long,\\\n",
    "                                                                       dfViajesEntreEstaciones.start_station_name,\\\n",
    "                                                                       dfViajesEntreEstaciones.end_station_lat,\\\n",
    "                                                                       dfViajesEntreEstaciones.end_station_long,\\\n",
    "                                                                       dfViajesEntreEstaciones.end_station_name,\\\n",
    "                                                                       dfViajesEntreEstaciones.cantidad):\n",
    "    folium.PolyLine(locations=[(startLat, startLon), (endLat, endLon)], color=colores2(cant), weight=3, opacity=1).add_to(linesMap)\n",
    "#     linesMap.add_child(c)\n",
    "    \n",
    "# startStationMap.add_child(grupoDeViajesEntreEstaciones)\n",
    "linesMap"
   ]
  },
  {
   "cell_type": "code",
   "execution_count": null,
   "metadata": {
    "collapsed": true,
    "deletable": true,
    "editable": true
   },
   "outputs": [],
   "source": [
    "lat = +38.89399\n",
    "lon = -77.03659\n",
    "zoom_start = 17\n",
    "\n",
    "m = folium.Map(location=[lat, lon], zoom_start=zoom_start)\n",
    "\n",
    "kw = dict(fill_color='red', radius=20)\n",
    "c0 = folium.CircleMarker([38.89415, -77.03738], **kw)\n",
    "c1 = folium.CircleMarker([38.89415, -77.03578], **kw)\n",
    "\n",
    "\n",
    "locations = [[(38.893596444352134, -77.03814983367920), (38.893379333722040, -77.03792452812195)],\n",
    "             [(38.893379333722040, -77.03792452812195), (38.893162222428310, -77.03761339187622)],\n",
    "             [(38.893162222428310, -77.03761339187622), (38.893028615148424, -77.03731298446655)],\n",
    "             [(38.893028615148424, -77.03731298446655), (38.892920059048464, -77.03691601753235)],\n",
    "             [(38.892920059048464, -77.03691601753235), (38.892903358095296, -77.03637957572937)],\n",
    "             [(38.892903358095296, -77.03637957572937), (38.893011914220770, -77.03592896461487)],\n",
    "             [(38.893011914220770, -77.03592896461487), (38.893162222428310, -77.03549981117249)],\n",
    "             [(38.893162222428310, -77.03549981117249), (38.893404384982480, -77.03514575958252)],\n",
    "             [(38.893404384982480, -77.03514575958252), (38.893596444352134, -77.03496336936950)]]\n",
    "\n",
    "c3 = folium.PolyLine(locations=locations, color='orange', weight=30, opacity=1)\n",
    "\n",
    "for c in [c0, c1, c3]:\n",
    "    m.add_child(c)\n",
    "\n",
    "m"
   ]
  },
  {
   "cell_type": "code",
   "execution_count": null,
   "metadata": {
    "collapsed": true,
    "deletable": true,
    "editable": true
   },
   "outputs": [],
   "source": []
  },
  {
   "cell_type": "code",
   "execution_count": null,
   "metadata": {
    "collapsed": true,
    "deletable": true,
    "editable": true
   },
   "outputs": [],
   "source": []
  }
 ],
 "metadata": {
  "celltoolbar": "Raw Cell Format",
  "kernelspec": {
   "display_name": "Python 2",
   "language": "python",
   "name": "python2"
  },
  "language_info": {
   "codemirror_mode": {
    "name": "ipython",
    "version": 2
   },
   "file_extension": ".py",
   "mimetype": "text/x-python",
   "name": "python",
   "nbconvert_exporter": "python",
   "pygments_lexer": "ipython2",
   "version": "2.7.12"
  }
 },
 "nbformat": 4,
 "nbformat_minor": 2
}
